{
 "cells": [
  {
   "cell_type": "code",
   "execution_count": 1,
   "metadata": {},
   "outputs": [],
   "source": [
    "import pandas as pd\n",
    "from sklearn.preprocessing import StandardScaler\n",
    "from sklearn.metrics import confusion_matrix\n",
    "from sklearn.naive_bayes import GaussianNB\n",
    "from sklearn.model_selection import train_test_split"
   ]
  },
  {
   "cell_type": "code",
   "execution_count": 2,
   "metadata": {},
   "outputs": [
    {
     "data": {
      "text/html": [
       "<div>\n",
       "<style scoped>\n",
       "    .dataframe tbody tr th:only-of-type {\n",
       "        vertical-align: middle;\n",
       "    }\n",
       "\n",
       "    .dataframe tbody tr th {\n",
       "        vertical-align: top;\n",
       "    }\n",
       "\n",
       "    .dataframe thead th {\n",
       "        text-align: right;\n",
       "    }\n",
       "</style>\n",
       "<table border=\"1\" class=\"dataframe\">\n",
       "  <thead>\n",
       "    <tr style=\"text-align: right;\">\n",
       "      <th></th>\n",
       "      <th>User ID</th>\n",
       "      <th>Gender</th>\n",
       "      <th>Age</th>\n",
       "      <th>EstimatedSalary</th>\n",
       "      <th>Purchased</th>\n",
       "    </tr>\n",
       "  </thead>\n",
       "  <tbody>\n",
       "    <tr>\n",
       "      <th>0</th>\n",
       "      <td>15624510</td>\n",
       "      <td>Male</td>\n",
       "      <td>19</td>\n",
       "      <td>19000</td>\n",
       "      <td>0</td>\n",
       "    </tr>\n",
       "    <tr>\n",
       "      <th>1</th>\n",
       "      <td>15810944</td>\n",
       "      <td>Male</td>\n",
       "      <td>35</td>\n",
       "      <td>20000</td>\n",
       "      <td>0</td>\n",
       "    </tr>\n",
       "    <tr>\n",
       "      <th>2</th>\n",
       "      <td>15668575</td>\n",
       "      <td>Female</td>\n",
       "      <td>26</td>\n",
       "      <td>43000</td>\n",
       "      <td>0</td>\n",
       "    </tr>\n",
       "    <tr>\n",
       "      <th>3</th>\n",
       "      <td>15603246</td>\n",
       "      <td>Female</td>\n",
       "      <td>27</td>\n",
       "      <td>57000</td>\n",
       "      <td>0</td>\n",
       "    </tr>\n",
       "    <tr>\n",
       "      <th>4</th>\n",
       "      <td>15804002</td>\n",
       "      <td>Male</td>\n",
       "      <td>19</td>\n",
       "      <td>76000</td>\n",
       "      <td>0</td>\n",
       "    </tr>\n",
       "  </tbody>\n",
       "</table>\n",
       "</div>"
      ],
      "text/plain": [
       "    User ID  Gender  Age  EstimatedSalary  Purchased\n",
       "0  15624510    Male   19            19000          0\n",
       "1  15810944    Male   35            20000          0\n",
       "2  15668575  Female   26            43000          0\n",
       "3  15603246  Female   27            57000          0\n",
       "4  15804002    Male   19            76000          0"
      ]
     },
     "execution_count": 2,
     "metadata": {},
     "output_type": "execute_result"
    }
   ],
   "source": [
    "df=pd.read_csv('Social_Network_Ads.csv')\n",
    "df.head()\n",
    "#we will not use gender as a feature for this model ...you can take it."
   ]
  },
  {
   "cell_type": "code",
   "execution_count": 3,
   "metadata": {},
   "outputs": [],
   "source": [
    "x = df.iloc[:,[2,3]].values\n",
    "y = df.iloc[:,-1].values"
   ]
  },
  {
   "cell_type": "code",
   "execution_count": 4,
   "metadata": {},
   "outputs": [],
   "source": [
    "x_train,x_test,y_train,y_test = train_test_split(x,y,test_size=0.25,random_state=0)\n",
    "sc = StandardScaler()\n",
    "x_train = sc.fit_transform(x_train)\n",
    "x_test = sc.fit_transform(x_test)"
   ]
  },
  {
   "cell_type": "code",
   "execution_count": 5,
   "metadata": {},
   "outputs": [],
   "source": [
    "model = GaussianNB()\n",
    "model.fit(x_train,y_train)\n",
    "predict = model.predict(x_test)"
   ]
  },
  {
   "cell_type": "code",
   "execution_count": 6,
   "metadata": {},
   "outputs": [
    {
     "data": {
      "text/plain": [
       "array([[64,  4],\n",
       "       [ 5, 27]])"
      ]
     },
     "execution_count": 6,
     "metadata": {},
     "output_type": "execute_result"
    }
   ],
   "source": [
    "confusion_matrix(y_test,predict)"
   ]
  },
  {
   "cell_type": "code",
   "execution_count": 7,
   "metadata": {},
   "outputs": [],
   "source": [
    "#Lets find out through neural network will it improve or not"
   ]
  },
  {
   "cell_type": "code",
   "execution_count": 8,
   "metadata": {},
   "outputs": [
    {
     "name": "stderr",
     "output_type": "stream",
     "text": [
      "Using TensorFlow backend.\n"
     ]
    }
   ],
   "source": [
    "import keras\n",
    "from keras.models import Sequential\n",
    "from keras.layers import Dense,Dropout"
   ]
  },
  {
   "cell_type": "code",
   "execution_count": 9,
   "metadata": {},
   "outputs": [],
   "source": [
    "model = Sequential()\n",
    "model.add(Dense(1024,activation='relu',input_shape=x_train[0].shape))\n",
    "model.add(Dense(512,activation='relu'))"
   ]
  },
  {
   "cell_type": "code",
   "execution_count": 10,
   "metadata": {},
   "outputs": [],
   "source": [
    "model.add(Dense(128,activation='relu'))\n",
    "model.add(Dense(64,activation='relu'))\n",
    "model.add(Dense(1,activation='sigmoid'))"
   ]
  },
  {
   "cell_type": "code",
   "execution_count": 11,
   "metadata": {},
   "outputs": [],
   "source": [
    "model.compile(optimizer='rmsprop',loss='binary_crossentropy',metrics=['accuracy'])"
   ]
  },
  {
   "cell_type": "code",
   "execution_count": 12,
   "metadata": {
    "scrolled": true
   },
   "outputs": [
    {
     "name": "stdout",
     "output_type": "stream",
     "text": [
      "Train on 270 samples, validate on 30 samples\n",
      "Epoch 1/100\n",
      "270/270 [==============================] - 1s 2ms/step - loss: 0.4016 - accuracy: 0.7926 - val_loss: 0.2078 - val_accuracy: 0.9333\n",
      "Epoch 2/100\n",
      "270/270 [==============================] - 0s 1ms/step - loss: 0.3059 - accuracy: 0.8815 - val_loss: 0.1714 - val_accuracy: 0.9667\n",
      "Epoch 3/100\n",
      "270/270 [==============================] - 0s 1ms/step - loss: 0.2754 - accuracy: 0.8926 - val_loss: 0.1268 - val_accuracy: 0.9667\n",
      "Epoch 4/100\n",
      "270/270 [==============================] - 0s 1ms/step - loss: 0.2509 - accuracy: 0.9185 - val_loss: 0.1533 - val_accuracy: 0.9667\n",
      "Epoch 5/100\n",
      "270/270 [==============================] - 0s 1ms/step - loss: 0.2634 - accuracy: 0.9111 - val_loss: 0.1436 - val_accuracy: 0.9667\n",
      "Epoch 6/100\n",
      "270/270 [==============================] - 0s 1ms/step - loss: 0.2696 - accuracy: 0.8963 - val_loss: 0.1571 - val_accuracy: 0.9667\n",
      "Epoch 7/100\n",
      "270/270 [==============================] - 0s 1ms/step - loss: 0.2608 - accuracy: 0.9037 - val_loss: 0.1362 - val_accuracy: 0.9667\n",
      "Epoch 8/100\n",
      "270/270 [==============================] - 0s 1ms/step - loss: 0.2631 - accuracy: 0.9000 - val_loss: 0.1366 - val_accuracy: 0.9667\n",
      "Epoch 9/100\n",
      "270/270 [==============================] - 0s 1ms/step - loss: 0.2665 - accuracy: 0.9074 - val_loss: 0.1331 - val_accuracy: 0.9667\n",
      "Epoch 10/100\n",
      "270/270 [==============================] - 0s 1ms/step - loss: 0.2580 - accuracy: 0.9000 - val_loss: 0.1443 - val_accuracy: 0.9667\n",
      "Epoch 11/100\n",
      "270/270 [==============================] - 0s 1ms/step - loss: 0.2598 - accuracy: 0.9000 - val_loss: 0.1421 - val_accuracy: 0.9667\n",
      "Epoch 12/100\n",
      "270/270 [==============================] - 0s 1ms/step - loss: 0.2701 - accuracy: 0.9074 - val_loss: 0.1362 - val_accuracy: 0.9667\n",
      "Epoch 13/100\n",
      "270/270 [==============================] - 0s 1ms/step - loss: 0.2542 - accuracy: 0.9074 - val_loss: 0.1576 - val_accuracy: 0.9667\n",
      "Epoch 14/100\n",
      "270/270 [==============================] - 0s 1ms/step - loss: 0.2578 - accuracy: 0.8963 - val_loss: 0.1415 - val_accuracy: 0.9667\n",
      "Epoch 15/100\n",
      "270/270 [==============================] - 0s 1ms/step - loss: 0.2556 - accuracy: 0.9074 - val_loss: 0.1404 - val_accuracy: 0.9667\n",
      "Epoch 16/100\n",
      "270/270 [==============================] - 0s 1ms/step - loss: 0.2477 - accuracy: 0.9037 - val_loss: 0.1441 - val_accuracy: 0.9667\n",
      "Epoch 17/100\n",
      "270/270 [==============================] - 0s 1ms/step - loss: 0.2661 - accuracy: 0.9000 - val_loss: 0.1370 - val_accuracy: 0.9667\n",
      "Epoch 18/100\n",
      "270/270 [==============================] - 0s 1ms/step - loss: 0.2433 - accuracy: 0.9037 - val_loss: 0.1194 - val_accuracy: 0.9667\n",
      "Epoch 19/100\n",
      "270/270 [==============================] - 0s 1ms/step - loss: 0.2777 - accuracy: 0.9037 - val_loss: 0.1462 - val_accuracy: 0.9667\n",
      "Epoch 20/100\n",
      "270/270 [==============================] - 0s 1ms/step - loss: 0.2465 - accuracy: 0.9000 - val_loss: 0.1736 - val_accuracy: 0.9667\n",
      "Epoch 21/100\n",
      "270/270 [==============================] - 0s 1ms/step - loss: 0.2466 - accuracy: 0.9148 - val_loss: 0.0862 - val_accuracy: 0.9667\n",
      "Epoch 22/100\n",
      "270/270 [==============================] - 0s 1ms/step - loss: 0.2532 - accuracy: 0.9037 - val_loss: 0.1356 - val_accuracy: 0.9667\n",
      "Epoch 23/100\n",
      "270/270 [==============================] - 0s 1ms/step - loss: 0.2522 - accuracy: 0.9111 - val_loss: 0.1454 - val_accuracy: 0.9667\n",
      "Epoch 24/100\n",
      "270/270 [==============================] - 0s 1ms/step - loss: 0.2451 - accuracy: 0.9111 - val_loss: 0.1370 - val_accuracy: 0.9667\n",
      "Epoch 25/100\n",
      "270/270 [==============================] - 0s 1ms/step - loss: 0.2584 - accuracy: 0.9037 - val_loss: 0.1187 - val_accuracy: 0.9667\n",
      "Epoch 26/100\n",
      "270/270 [==============================] - 0s 1ms/step - loss: 0.2444 - accuracy: 0.9111 - val_loss: 0.1482 - val_accuracy: 0.9667\n",
      "Epoch 27/100\n",
      "270/270 [==============================] - 0s 1ms/step - loss: 0.2512 - accuracy: 0.9148 - val_loss: 0.1513 - val_accuracy: 0.9667\n",
      "Epoch 28/100\n",
      "270/270 [==============================] - 0s 1ms/step - loss: 0.2543 - accuracy: 0.9148 - val_loss: 0.0650 - val_accuracy: 1.0000\n",
      "Epoch 29/100\n",
      "270/270 [==============================] - 0s 1ms/step - loss: 0.2471 - accuracy: 0.9111 - val_loss: 0.1388 - val_accuracy: 0.9667\n",
      "Epoch 30/100\n",
      "270/270 [==============================] - 0s 1ms/step - loss: 0.2539 - accuracy: 0.9111 - val_loss: 0.1711 - val_accuracy: 0.9667\n",
      "Epoch 31/100\n",
      "270/270 [==============================] - 0s 1ms/step - loss: 0.2365 - accuracy: 0.9185 - val_loss: 0.1359 - val_accuracy: 0.9667\n",
      "Epoch 32/100\n",
      "270/270 [==============================] - 0s 1ms/step - loss: 0.2750 - accuracy: 0.9000 - val_loss: 0.1516 - val_accuracy: 0.9667\n",
      "Epoch 33/100\n",
      "270/270 [==============================] - 0s 1ms/step - loss: 0.2423 - accuracy: 0.9111 - val_loss: 0.1608 - val_accuracy: 0.9667\n",
      "Epoch 34/100\n",
      "270/270 [==============================] - 0s 1ms/step - loss: 0.2521 - accuracy: 0.9074 - val_loss: 0.1750 - val_accuracy: 0.9667\n",
      "Epoch 35/100\n",
      "270/270 [==============================] - 0s 1ms/step - loss: 0.2501 - accuracy: 0.9111 - val_loss: 0.1496 - val_accuracy: 0.9667\n",
      "Epoch 36/100\n",
      "270/270 [==============================] - 0s 1ms/step - loss: 0.2362 - accuracy: 0.9148 - val_loss: 0.0460 - val_accuracy: 1.0000\n",
      "Epoch 37/100\n",
      "270/270 [==============================] - 0s 1ms/step - loss: 0.2495 - accuracy: 0.9074 - val_loss: 0.1535 - val_accuracy: 0.9667\n",
      "Epoch 38/100\n",
      "270/270 [==============================] - 0s 1ms/step - loss: 0.2539 - accuracy: 0.9037 - val_loss: 0.1310 - val_accuracy: 0.9667\n",
      "Epoch 39/100\n",
      "270/270 [==============================] - 0s 1ms/step - loss: 0.2450 - accuracy: 0.9222 - val_loss: 0.1373 - val_accuracy: 0.9667\n",
      "Epoch 40/100\n",
      "270/270 [==============================] - 0s 1ms/step - loss: 0.2406 - accuracy: 0.9111 - val_loss: 0.1816 - val_accuracy: 0.9667\n",
      "Epoch 41/100\n",
      "270/270 [==============================] - 0s 1ms/step - loss: 0.2399 - accuracy: 0.9074 - val_loss: 0.1309 - val_accuracy: 0.9667\n",
      "Epoch 42/100\n",
      "270/270 [==============================] - 0s 1ms/step - loss: 0.2397 - accuracy: 0.9185 - val_loss: 0.1427 - val_accuracy: 0.9667\n",
      "Epoch 43/100\n",
      "270/270 [==============================] - 0s 1ms/step - loss: 0.2434 - accuracy: 0.9111 - val_loss: 0.1522 - val_accuracy: 0.9667\n",
      "Epoch 44/100\n",
      "270/270 [==============================] - 0s 1ms/step - loss: 0.2545 - accuracy: 0.9111 - val_loss: 0.1836 - val_accuracy: 0.9667\n",
      "Epoch 45/100\n",
      "270/270 [==============================] - 0s 1ms/step - loss: 0.2525 - accuracy: 0.9148 - val_loss: 0.1583 - val_accuracy: 0.9667\n",
      "Epoch 46/100\n",
      "270/270 [==============================] - 0s 1ms/step - loss: 0.2434 - accuracy: 0.9148 - val_loss: 0.1627 - val_accuracy: 0.9667\n",
      "Epoch 47/100\n",
      "270/270 [==============================] - 0s 1ms/step - loss: 0.2408 - accuracy: 0.9074 - val_loss: 0.1527 - val_accuracy: 0.9667\n",
      "Epoch 48/100\n",
      "270/270 [==============================] - 0s 1ms/step - loss: 0.2346 - accuracy: 0.9111 - val_loss: 0.1914 - val_accuracy: 0.9667\n",
      "Epoch 49/100\n",
      "270/270 [==============================] - 0s 1ms/step - loss: 0.2470 - accuracy: 0.9074 - val_loss: 0.1409 - val_accuracy: 0.9667\n",
      "Epoch 50/100\n",
      "270/270 [==============================] - 0s 1ms/step - loss: 0.2949 - accuracy: 0.9111 - val_loss: 0.1391 - val_accuracy: 0.9667\n",
      "Epoch 51/100\n",
      "270/270 [==============================] - 0s 1ms/step - loss: 0.2424 - accuracy: 0.9074 - val_loss: 0.1525 - val_accuracy: 0.9667\n",
      "Epoch 52/100\n",
      "270/270 [==============================] - 0s 1ms/step - loss: 0.2420 - accuracy: 0.9148 - val_loss: 0.1525 - val_accuracy: 0.9667\n",
      "Epoch 53/100\n",
      "270/270 [==============================] - 0s 1ms/step - loss: 0.2472 - accuracy: 0.9148 - val_loss: 0.1373 - val_accuracy: 0.9667\n",
      "Epoch 54/100\n",
      "270/270 [==============================] - 0s 1ms/step - loss: 0.2734 - accuracy: 0.9148 - val_loss: 0.1596 - val_accuracy: 0.9667\n",
      "Epoch 55/100\n",
      "270/270 [==============================] - 0s 1ms/step - loss: 0.2464 - accuracy: 0.9037 - val_loss: 0.1812 - val_accuracy: 0.9333\n",
      "Epoch 56/100\n",
      "270/270 [==============================] - 0s 1ms/step - loss: 0.2490 - accuracy: 0.8963 - val_loss: 0.1613 - val_accuracy: 0.9667\n",
      "Epoch 57/100\n",
      "270/270 [==============================] - 0s 1ms/step - loss: 0.2435 - accuracy: 0.9111 - val_loss: 0.1510 - val_accuracy: 0.9667\n",
      "Epoch 58/100\n",
      "270/270 [==============================] - 0s 1ms/step - loss: 0.2370 - accuracy: 0.9111 - val_loss: 0.1777 - val_accuracy: 0.9667\n",
      "Epoch 59/100\n",
      "270/270 [==============================] - 0s 1ms/step - loss: 0.2422 - accuracy: 0.9037 - val_loss: 0.1635 - val_accuracy: 0.9667\n",
      "Epoch 60/100\n",
      "270/270 [==============================] - 0s 1ms/step - loss: 0.2481 - accuracy: 0.9111 - val_loss: 0.1705 - val_accuracy: 0.9667\n",
      "Epoch 61/100\n",
      "270/270 [==============================] - 0s 1ms/step - loss: 0.2370 - accuracy: 0.9185 - val_loss: 0.1903 - val_accuracy: 0.9667\n",
      "Epoch 62/100\n",
      "270/270 [==============================] - 0s 1ms/step - loss: 0.2559 - accuracy: 0.9074 - val_loss: 0.1542 - val_accuracy: 0.9667\n",
      "Epoch 63/100\n",
      "270/270 [==============================] - 0s 1ms/step - loss: 0.3150 - accuracy: 0.9037 - val_loss: 0.1538 - val_accuracy: 0.9667\n",
      "Epoch 64/100\n",
      "270/270 [==============================] - 0s 1ms/step - loss: 0.2371 - accuracy: 0.9111 - val_loss: 0.1401 - val_accuracy: 0.9667\n",
      "Epoch 65/100\n",
      "270/270 [==============================] - 0s 1ms/step - loss: 0.2353 - accuracy: 0.9222 - val_loss: 0.1574 - val_accuracy: 0.9667\n",
      "Epoch 66/100\n",
      "270/270 [==============================] - 0s 1ms/step - loss: 0.2267 - accuracy: 0.9148 - val_loss: 0.1432 - val_accuracy: 0.9667\n",
      "Epoch 67/100\n",
      "270/270 [==============================] - 0s 1ms/step - loss: 0.2361 - accuracy: 0.9111 - val_loss: 0.1924 - val_accuracy: 0.9667\n",
      "Epoch 68/100\n",
      "270/270 [==============================] - 0s 1ms/step - loss: 0.2489 - accuracy: 0.9074 - val_loss: 0.1431 - val_accuracy: 0.9667\n",
      "Epoch 69/100\n",
      "270/270 [==============================] - 0s 1ms/step - loss: 0.2258 - accuracy: 0.9185 - val_loss: 0.1982 - val_accuracy: 0.9667\n",
      "Epoch 70/100\n",
      "270/270 [==============================] - 0s 1ms/step - loss: 0.2439 - accuracy: 0.9111 - val_loss: 0.1578 - val_accuracy: 0.9667\n",
      "Epoch 71/100\n",
      "270/270 [==============================] - 0s 1ms/step - loss: 0.2395 - accuracy: 0.9111 - val_loss: 0.1588 - val_accuracy: 0.9667\n",
      "Epoch 72/100\n",
      "270/270 [==============================] - 0s 1ms/step - loss: 0.2325 - accuracy: 0.9259 - val_loss: 0.1695 - val_accuracy: 0.9667\n",
      "Epoch 73/100\n",
      "270/270 [==============================] - 0s 1ms/step - loss: 0.2264 - accuracy: 0.9148 - val_loss: 0.1915 - val_accuracy: 0.9667\n",
      "Epoch 74/100\n",
      "270/270 [==============================] - 0s 1ms/step - loss: 0.2346 - accuracy: 0.9185 - val_loss: 0.1384 - val_accuracy: 0.9667\n",
      "Epoch 75/100\n",
      "270/270 [==============================] - 0s 1ms/step - loss: 0.2391 - accuracy: 0.9111 - val_loss: 0.1264 - val_accuracy: 0.9667\n",
      "Epoch 76/100\n",
      "270/270 [==============================] - 0s 1ms/step - loss: 0.2431 - accuracy: 0.9185 - val_loss: 0.1408 - val_accuracy: 0.9667\n",
      "Epoch 77/100\n",
      "270/270 [==============================] - 0s 1ms/step - loss: 0.2356 - accuracy: 0.9148 - val_loss: 0.1482 - val_accuracy: 0.9667\n",
      "Epoch 78/100\n",
      "270/270 [==============================] - 0s 1ms/step - loss: 0.2355 - accuracy: 0.9111 - val_loss: 0.1671 - val_accuracy: 0.9667\n",
      "Epoch 79/100\n",
      "270/270 [==============================] - 0s 1ms/step - loss: 0.2216 - accuracy: 0.9222 - val_loss: 0.1533 - val_accuracy: 0.9667\n",
      "Epoch 80/100\n",
      "270/270 [==============================] - 0s 1ms/step - loss: 0.2293 - accuracy: 0.9185 - val_loss: 0.2151 - val_accuracy: 0.9667\n",
      "Epoch 81/100\n",
      "270/270 [==============================] - 0s 1ms/step - loss: 0.2961 - accuracy: 0.9111 - val_loss: 0.1933 - val_accuracy: 0.9667\n",
      "Epoch 82/100\n",
      "270/270 [==============================] - 0s 1ms/step - loss: 0.2229 - accuracy: 0.9259 - val_loss: 0.1634 - val_accuracy: 0.9667\n",
      "Epoch 83/100\n",
      "270/270 [==============================] - 0s 1ms/step - loss: 0.2463 - accuracy: 0.9111 - val_loss: 0.1626 - val_accuracy: 0.9667\n",
      "Epoch 84/100\n",
      "270/270 [==============================] - 0s 1ms/step - loss: 0.2301 - accuracy: 0.9222 - val_loss: 0.1822 - val_accuracy: 0.9667\n",
      "Epoch 85/100\n",
      "270/270 [==============================] - 0s 1ms/step - loss: 0.2414 - accuracy: 0.9148 - val_loss: 0.1822 - val_accuracy: 0.9667\n",
      "Epoch 86/100\n",
      "270/270 [==============================] - 0s 1ms/step - loss: 0.2204 - accuracy: 0.9259 - val_loss: 0.2410 - val_accuracy: 0.9667\n",
      "Epoch 87/100\n",
      "270/270 [==============================] - 0s 1ms/step - loss: 0.2413 - accuracy: 0.9185 - val_loss: 0.1331 - val_accuracy: 0.9667\n",
      "Epoch 88/100\n",
      "270/270 [==============================] - 0s 1ms/step - loss: 0.2232 - accuracy: 0.9148 - val_loss: 0.2316 - val_accuracy: 0.9667\n",
      "Epoch 89/100\n",
      "270/270 [==============================] - 0s 1ms/step - loss: 0.2344 - accuracy: 0.9185 - val_loss: 0.1695 - val_accuracy: 0.9667\n",
      "Epoch 90/100\n",
      "270/270 [==============================] - 0s 1ms/step - loss: 0.2175 - accuracy: 0.9222 - val_loss: 0.2302 - val_accuracy: 0.9667\n",
      "Epoch 91/100\n",
      "270/270 [==============================] - 0s 1ms/step - loss: 0.2247 - accuracy: 0.9222 - val_loss: 0.2599 - val_accuracy: 0.9667\n",
      "Epoch 92/100\n",
      "270/270 [==============================] - 0s 1ms/step - loss: 0.2540 - accuracy: 0.9148 - val_loss: 0.2979 - val_accuracy: 0.9667\n",
      "Epoch 93/100\n",
      "270/270 [==============================] - 0s 1ms/step - loss: 0.2309 - accuracy: 0.9222 - val_loss: 0.2049 - val_accuracy: 0.9667\n",
      "Epoch 94/100\n",
      "270/270 [==============================] - 0s 1ms/step - loss: 0.2203 - accuracy: 0.9148 - val_loss: 0.1377 - val_accuracy: 0.9667\n",
      "Epoch 95/100\n",
      "270/270 [==============================] - 0s 1ms/step - loss: 0.2412 - accuracy: 0.9111 - val_loss: 0.2214 - val_accuracy: 0.9667\n",
      "Epoch 96/100\n",
      "270/270 [==============================] - 0s 1ms/step - loss: 0.2237 - accuracy: 0.9185 - val_loss: 0.1907 - val_accuracy: 0.9667\n",
      "Epoch 97/100\n",
      "270/270 [==============================] - 0s 1ms/step - loss: 0.2198 - accuracy: 0.9185 - val_loss: 0.1730 - val_accuracy: 0.9667\n",
      "Epoch 98/100\n",
      "270/270 [==============================] - 0s 1ms/step - loss: 0.2340 - accuracy: 0.9185 - val_loss: 0.1556 - val_accuracy: 0.9667\n",
      "Epoch 99/100\n",
      "270/270 [==============================] - 0s 1ms/step - loss: 0.2241 - accuracy: 0.9222 - val_loss: 0.1500 - val_accuracy: 0.9667\n",
      "Epoch 100/100\n",
      "270/270 [==============================] - 0s 1ms/step - loss: 0.2221 - accuracy: 0.9222 - val_loss: 0.2286 - val_accuracy: 0.9667\n"
     ]
    },
    {
     "data": {
      "text/plain": [
       "<keras.callbacks.callbacks.History at 0x7f4cac798350>"
      ]
     },
     "execution_count": 12,
     "metadata": {},
     "output_type": "execute_result"
    }
   ],
   "source": [
    "model.fit(x_train,y_train,epochs=100,batch_size=10,validation_split=0.1)"
   ]
  },
  {
   "cell_type": "code",
   "execution_count": 13,
   "metadata": {},
   "outputs": [],
   "source": [
    "predict = model.predict(x_test)"
   ]
  },
  {
   "cell_type": "code",
   "execution_count": 14,
   "metadata": {},
   "outputs": [],
   "source": [
    "predict = predict.round()"
   ]
  },
  {
   "cell_type": "code",
   "execution_count": 15,
   "metadata": {},
   "outputs": [],
   "source": [
    "import numpy as np"
   ]
  },
  {
   "cell_type": "code",
   "execution_count": 16,
   "metadata": {},
   "outputs": [
    {
     "data": {
      "text/plain": [
       "numpy.ndarray"
      ]
     },
     "execution_count": 16,
     "metadata": {},
     "output_type": "execute_result"
    }
   ],
   "source": [
    "type(predict)"
   ]
  },
  {
   "cell_type": "code",
   "execution_count": 17,
   "metadata": {},
   "outputs": [
    {
     "data": {
      "text/plain": [
       "numpy.ndarray"
      ]
     },
     "execution_count": 17,
     "metadata": {},
     "output_type": "execute_result"
    }
   ],
   "source": [
    "type(y_test)"
   ]
  },
  {
   "cell_type": "code",
   "execution_count": 18,
   "metadata": {},
   "outputs": [
    {
     "data": {
      "text/plain": [
       "(100, 1)"
      ]
     },
     "execution_count": 18,
     "metadata": {},
     "output_type": "execute_result"
    }
   ],
   "source": [
    "predict.shape"
   ]
  },
  {
   "cell_type": "code",
   "execution_count": 19,
   "metadata": {},
   "outputs": [
    {
     "data": {
      "text/plain": [
       "(100,)"
      ]
     },
     "execution_count": 19,
     "metadata": {},
     "output_type": "execute_result"
    }
   ],
   "source": [
    "y_test.shape"
   ]
  },
  {
   "cell_type": "code",
   "execution_count": 20,
   "metadata": {},
   "outputs": [],
   "source": [
    "predict = np.reshape(predict,newshape=y_test.shape)"
   ]
  },
  {
   "cell_type": "code",
   "execution_count": 21,
   "metadata": {},
   "outputs": [
    {
     "data": {
      "text/plain": [
       "array([[64,  3],\n",
       "       [ 4, 29]])"
      ]
     },
     "execution_count": 21,
     "metadata": {},
     "output_type": "execute_result"
    }
   ],
   "source": [
    "confusion_matrix(predict,y_test)"
   ]
  },
  {
   "cell_type": "code",
   "execution_count": 22,
   "metadata": {},
   "outputs": [],
   "source": [
    "#yes we got more accuracy in our model as compared to previous one.......ut its not feasible to train our neural\n",
    "#network in small data."
   ]
  }
 ],
 "metadata": {
  "kernelspec": {
   "display_name": "Python 3",
   "language": "python",
   "name": "python3"
  },
  "language_info": {
   "codemirror_mode": {
    "name": "ipython",
    "version": 3
   },
   "file_extension": ".py",
   "mimetype": "text/x-python",
   "name": "python",
   "nbconvert_exporter": "python",
   "pygments_lexer": "ipython3",
   "version": "3.7.4"
  }
 },
 "nbformat": 4,
 "nbformat_minor": 4
}
